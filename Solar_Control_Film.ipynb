{
 "cells": [
  {
   "cell_type": "markdown",
   "id": "9fbba71e",
   "metadata": {},
   "source": [
    "<h1> Solar Control Film</h1>"
   ]
  },
  {
   "cell_type": "markdown",
   "id": "5f5d0f74",
   "metadata": {},
   "source": [
    "We are going to study the transmittance $T$ and reflectance $R$ for a three-layered system consisting of three thin films onto a glass substrate. The arrangement in question is: tin-oxide/silver/tin-oxide/glass. The arrangement is inmersed in air. The substrate is a thick film, i.e., non-coherent."
   ]
  },
  {
   "cell_type": "markdown",
   "id": "a5ce838f",
   "metadata": {},
   "source": [
    "But before continuing, we need to load some packages and make some definitions for Python:"
   ]
  },
  {
   "cell_type": "code",
   "execution_count": 1,
   "id": "3333e581",
   "metadata": {},
   "outputs": [],
   "source": [
    "import numpy as np\n",
    "import cmath \n",
    "import math\n",
    "import matplotlib.pyplot as plt\n",
    "from functools import reduce\n",
    "\n",
    "wl= np.arange(300.0, 2510.0, 10.0) #<---Wavelengths in interval\n",
    "l= len(wl)\n",
    "j= complex(0,1)\n",
    "T = np.array([None]*l)\n",
    "R = np.array([None]*l)"
   ]
  },
  {
   "cell_type": "markdown",
   "id": "2e5b6d56",
   "metadata": {},
   "source": [
    "Now, we are going to load the experimental refractive index of tin oxide, and silver:"
   ]
  },
  {
   "cell_type": "code",
   "execution_count": 2,
   "id": "1fbffdd5",
   "metadata": {},
   "outputs": [],
   "source": [
    "wt,nt,kt = np.loadtxt('SnO_n_k.txt', unpack = True)\n",
    "ws,ns,ks = np.loadtxt('Ag_n_k.txt', unpack = True)\n",
    "TINOXIDE= np.array([complex(0.0,0.0)]*l)\n",
    "SILVER= np.array([complex(0.0,0.0)]*l)\n",
    "i = 0\n",
    "while (i <= l-1):\n",
    "\tTINOXIDE[i]=complex(nt[i],kt[i])\n",
    "\tSILVER[i] = complex(ns[i],ks[i])\n",
    "\ti = i+1"
   ]
  },
  {
   "cell_type": "markdown",
   "id": "71d297bd",
   "metadata": {},
   "source": [
    "We plot the refractive index of silver:"
   ]
  },
  {
   "cell_type": "code",
   "execution_count": 3,
   "id": "78ad7c95",
   "metadata": {
    "scrolled": true
   },
   "outputs": [
    {
     "data": {
      "image/png": "[encoded data removed]",
      "text/plain": [
       "<Figure size 432x288 with 1 Axes>"
      ]
     },
     "metadata": {
      "needs_background": "light"
     },
     "output_type": "display_data"
    }
   ],
   "source": [
    "plt.plot(wl,ns,label='Silver real')\n",
    "plt.plot(wl,ks,label='Silver img')\n",
    "plt.ylim([0.0, 16])\n",
    "plt.xlim([300.0, 2000])\n",
    "plt.xlabel(\"Wavelenght (nm)\")\n",
    "plt.ylabel(\"n, k\")\n",
    "plt.legend(loc='best', fontsize= 10,frameon=False)\n",
    "plt.show()"
   ]
  },
  {
   "cell_type": "markdown",
   "id": "647b6faf",
   "metadata": {},
   "source": [
    "And of the refractive index of thin oxide:"
   ]
  },
  {
   "cell_type": "code",
   "execution_count": 4,
   "id": "17954267",
   "metadata": {},
   "outputs": [
    {
     "data": {
      "image/png": "[encoded data removed]",
      "text/plain": [
       "<Figure size 432x288 with 1 Axes>"
      ]
     },
     "metadata": {
      "needs_background": "light"
     },
     "output_type": "display_data"
    }
   ],
   "source": [
    "plt.plot(wl,nt,label='Tin oxide real')\n",
    "plt.plot(wl,kt,label='Tin oxide img')\n",
    "plt.ylim([0.0, 2.5])\n",
    "plt.xlim([300.0, 2000])\n",
    "plt.xlabel(\"Wavelenght (nm)\")\n",
    "plt.ylabel(\"n, k\")\n",
    "plt.legend(loc='best', fontsize= 10,frameon=False)\n",
    "plt.show()"
   ]
  },
  {
   "cell_type": "markdown",
   "id": "7a2de277",
   "metadata": {},
   "source": [
    "We assume that glass has a constant refractive index equal to 1.52 and that air has a refractive index of 1.00:"
   ]
  },
  {
   "cell_type": "code",
   "execution_count": 5,
   "id": "b172ec81",
   "metadata": {},
   "outputs": [],
   "source": [
    "AIR = np.array([complex(1.0 , 0.0)] * l)\n",
    "GLASS= np.array([complex(1.52, 0.0)]*l)"
   ]
  },
  {
   "cell_type": "markdown",
   "id": "668d512e",
   "metadata": {},
   "source": [
    "We define some functions that help us in calculating the different Fresnel coefficients: "
   ]
  },
  {
   "cell_type": "code",
   "execution_count": 6,
   "id": "487b7d72",
   "metadata": {},
   "outputs": [],
   "source": [
    "def fresnel_r(N_a,N_b):\n",
    "\treturn (N_b-N_a)/(N_a+N_b)\n",
    "\t\n",
    "def fresnel_t(N_a,N_b):\n",
    "\treturn 2*N_a/(N_a+N_b)"
   ]
  },
  {
   "cell_type": "markdown",
   "id": "e4ce4688",
   "metadata": {},
   "source": [
    "We are going to calculate the transmittance following the **Matrix formalism** by B. Harbecke, App. Phys. B 39, 165-170 (1986). Accordingly, we define a function that calculates the **interface matrix**:"
   ]
  },
  {
   "cell_type": "code",
   "execution_count": 7,
   "id": "0ea3d343",
   "metadata": {},
   "outputs": [],
   "source": [
    "def interface_matrix (t_ab,r_ab):\n",
    "\treturn np.matrix([[1.0/t_ab, r_ab/t_ab], [r_ab/t_ab, 1.0/t_ab]])"
   ]
  },
  {
   "cell_type": "markdown",
   "id": "254cf969",
   "metadata": {},
   "source": [
    "And the **transfer matrix**:"
   ]
  },
  {
   "cell_type": "code",
   "execution_count": 8,
   "id": "80c2332f",
   "metadata": {},
   "outputs": [],
   "source": [
    "def transfer_matrix(N,d,lambda_i):\t\t\n",
    "\tD1 =(cmath.exp(j*2*math.pi*N.real*d/lambda_i))*(cmath.exp(-2*math.pi*N.imag*d/lambda_i))\n",
    "\treturn np.matrix([[D1**(-1), 0.0], [0.0, D1]])"
   ]
  },
  {
   "cell_type": "markdown",
   "id": "30abbe80",
   "metadata": {},
   "source": [
    "It its time to define our layer stack:"
   ]
  },
  {
   "cell_type": "code",
   "execution_count": 9,
   "id": "ca7939c0",
   "metadata": {},
   "outputs": [],
   "source": [
    "N0 = AIR\n",
    "N1 = TINOXIDE\n",
    "d1 = 54.9\n",
    "N2 = SILVER\n",
    "d2= 26.0\n",
    "N3 = TINOXIDE\n",
    "d3= 30.0\n",
    "N4= GLASS\n",
    "d4= 1000000"
   ]
  },
  {
   "cell_type": "markdown",
   "id": "ddb2d201",
   "metadata": {},
   "source": [
    "Note that $d1$, $d2$, $d3$ and $d4$ are the **thicknesses in nm** of the layers tin-oxide/silver/tin-oxide/glass, respectively. You can modify those thicknesses if you want."
   ]
  },
  {
   "cell_type": "markdown",
   "id": "c15e8d69",
   "metadata": {},
   "source": [
    "Use the functions we defined before to calculate the Fresnel coefficients:"
   ]
  },
  {
   "cell_type": "code",
   "execution_count": 10,
   "id": "5a73e29c",
   "metadata": {},
   "outputs": [],
   "source": [
    "r01 = fresnel_r(N0,N1)\n",
    "t01 = fresnel_t(N0,N1)\n",
    "r12 = fresnel_r(N1,N2)\n",
    "t12 = fresnel_t(N1,N2)\n",
    "r23 = fresnel_r(N2,N3)\n",
    "t23 = fresnel_t(N2,N3)\n",
    "r34 = fresnel_r(N3,N4)\n",
    "t34 = fresnel_t(N3,N4)\n",
    "t40 = fresnel_t(N4,N0)\n",
    "t04 = fresnel_t(N0,N4)\n",
    "r40 = fresnel_r(N4,N0)\n",
    "r04 = fresnel_r(N0,N4)"
   ]
  },
  {
   "cell_type": "markdown",
   "id": "1980f84f",
   "metadata": {},
   "source": [
    "And now do the product to obtain $T$ and $R$, according to the matrix formalism. "
   ]
  },
  {
   "cell_type": "code",
   "execution_count": 11,
   "id": "bda5f4ad",
   "metadata": {},
   "outputs": [],
   "source": [
    "i=0\n",
    "while (i <= l-1):  \n",
    "\n",
    "\tM01 = interface_matrix(t01[i],r01[i])\n",
    "\tE1 = transfer_matrix(N1[i],d1,wl[i])\n",
    "\t#\n",
    "\tM12 = interface_matrix(t12[i],r12[i])\n",
    "\tE2 = transfer_matrix(N2[i],d2,wl[i])\n",
    "\t#\n",
    "\tM23 = interface_matrix(t23[i],r23[i])\n",
    "\tE3 = transfer_matrix(N3[i],d3,wl[i])\n",
    "\t#\n",
    "\tM34 = interface_matrix(t34[i],r34[i])\n",
    "\t\n",
    "\n",
    "\tA = reduce(np.dot, [M01,E1,M12,E2,M23,E3,M34])\n",
    "\t\n",
    "\t\n",
    "\t\n",
    "\tz = N4[i].real/N0[i].real\n",
    "\tzprime= N0[i]/N4[i]\n",
    "\n",
    "\t## ----- B. Harbecke App. Phys. B 39, 165-170 (1986) Eq. 9 and Eq. 11.\n",
    "\ttas = 1/A[0,0]\n",
    "\tras = A[1,0]/A[0,0]\n",
    "\ttsa = (A[0,0]*A[1,1]-A[0,1]*A[1,0])/A[0,0]\n",
    "\trsa =-A[0,1]/A[0,0]\n",
    "\t#--------\n",
    "\t\n",
    "\t#--------Now treating the problem as a thick film. Convert to intensities.\n",
    "\tT1 = z.real*abs(tas)**2\n",
    "\tT1prime =zprime.real*(abs(tsa)**2)\n",
    "\tR1 = abs(ras)**2\n",
    "\tR1prime=abs(rsa)**2\n",
    "\t\n",
    "\tR2 =abs(r40[i])**2\n",
    "\tT2 =N4[i].real/N0[i].real*(abs(t04[i])**2)\n",
    "\t\n",
    "\t# treating the problem as a thick film in which T1 and T1 prime come from the product of matrices A.\n",
    "\tT[i] = abs(T1*T2*cmath.exp(-2*math.pi*N4[i].imag*d4/wl[i])/(1-R1prime*R2*cmath.exp(-4*math.pi*N4[i].imag*d4/wl[i])))\n",
    "\tR[i] = abs(R1 + ((T1**2)*R2*cmath.exp(-4*math.pi*N4[i].imag*d4/wl[i]))/(1-R1prime*R2*cmath.exp(-4*math.pi*N4[i].imag*d4/wl[i])))\n",
    "\ti = i+1    "
   ]
  },
  {
   "cell_type": "markdown",
   "id": "7d594751",
   "metadata": {},
   "source": [
    "Now, we are going to compare our results with those of a real solar control glazing than can be found in the market. We now load the experimental $T$ and $R$ such commertial glazing:"
   ]
  },
  {
   "cell_type": "code",
   "execution_count": 12,
   "id": "de8a41f1",
   "metadata": {},
   "outputs": [],
   "source": [
    "wlT,Texp = np.loadtxt('Suncool_T.xy', unpack = True)\n",
    "wlR,Rexp = np.loadtxt('Suncool_R.xy', unpack = True)"
   ]
  },
  {
   "cell_type": "markdown",
   "id": "8ef054f7",
   "metadata": {},
   "source": [
    "And plot the experimental curves together with our calculated results:"
   ]
  },
  {
   "cell_type": "code",
   "execution_count": 13,
   "id": "576e8757",
   "metadata": {
    "scrolled": true
   },
   "outputs": [
    {
     "data": {
      "image/png": "[encoded data removed]",
      "text/plain": [
       "<Figure size 432x288 with 1 Axes>"
      ]
     },
     "metadata": {
      "needs_background": "light"
     },
     "output_type": "display_data"
    }
   ],
   "source": [
    "plt.plot(wl,T,label='T calculated')\n",
    "plt.plot(wl,R,label='R calculated')\n",
    "plt.plot(wlT,Texp,label='T experimental')\n",
    "plt.plot(wlR,Rexp,label='R experimental')\n",
    "plt.ylim([0.0, 1])\n",
    "plt.xlim([300.0, 2000])\n",
    "# #plt.plot(wl,R, label ='R')\n",
    "plt.xlabel(\"Wavelenght (nm)\")\n",
    "plt.ylabel(\"T, R (%)\")\n",
    "plt.legend(loc='center right', fontsize= 10,frameon=False)\n",
    "plt.show()"
   ]
  }
 ],
 "metadata": {
  "kernelspec": {
   "display_name": "Python 3",
   "language": "python",
   "name": "python3"
  },
  "language_info": {
   "codemirror_mode": {
    "name": "ipython",
    "version": 3
   },
   "file_extension": ".py",
   "mimetype": "text/x-python",
   "name": "python",
   "nbconvert_exporter": "python",
   "pygments_lexer": "ipython3",
   "version": "3.9.5"
  }
 },
 "nbformat": 4,
 "nbformat_minor": 5
}
